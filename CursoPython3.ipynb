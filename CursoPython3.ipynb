{
  "nbformat": 4,
  "nbformat_minor": 0,
  "metadata": {
    "colab": {
      "name": "CursoPython3.ipynb",
      "provenance": [],
      "collapsed_sections": [],
      "authorship_tag": "ABX9TyNyEhL/npFxuF/MVP6bsreJ",
      "include_colab_link": true
    },
    "kernelspec": {
      "name": "python3",
      "display_name": "Python 3"
    },
    "language_info": {
      "name": "python"
    }
  },
  "cells": [
    {
      "cell_type": "markdown",
      "metadata": {
        "id": "view-in-github",
        "colab_type": "text"
      },
      "source": [
        "<a href=\"https://colab.research.google.com/github/AndresFelipeLealVilla/CursoPython/blob/main/CursoPython3.ipynb\" target=\"_parent\"><img src=\"https://colab.research.google.com/assets/colab-badge.svg\" alt=\"Open In Colab\"/></a>"
      ]
    },
    {
      "cell_type": "markdown",
      "metadata": {
        "id": "UyYYwQA0xlW-"
      },
      "source": [
        "**Control de flujo**"
      ]
    },
    {
      "cell_type": "markdown",
      "metadata": {
        "id": "qRjZlIf4xoE7"
      },
      "source": [
        "Tema #10: **SENTENCIA IF**"
      ]
    },
    {
      "cell_type": "code",
      "metadata": {
        "colab": {
          "base_uri": "https://localhost:8080/"
        },
        "id": "tyBPmBDCx33e",
        "outputId": "9048b026-6df7-41ff-bf6a-ef73e175aceb"
      },
      "source": [
        "a = 5\n",
        "b = 10\n",
        "if a == 5 and b == 10:\n",
        "  print(\"a vale 5 y b vale 10\")"
      ],
      "execution_count": 1,
      "outputs": [
        {
          "output_type": "stream",
          "text": [
            "a vale 5 y b vale 10\n"
          ],
          "name": "stdout"
        }
      ]
    },
    {
      "cell_type": "code",
      "metadata": {
        "id": "ewXPcmrVx8nO"
      },
      "source": [
        "n = 11\n",
        "if n%2 == 0:\n",
        "  print(n,\"Es un número par\")\n",
        "else:\n",
        "  print(n,\"Es un número impar\")"
      ],
      "execution_count": null,
      "outputs": []
    },
    {
      "cell_type": "code",
      "metadata": {
        "colab": {
          "base_uri": "https://localhost:8080/"
        },
        "id": "lWygGpH3x-pG",
        "outputId": "dec2d60f-6452-4b01-e8f1-9c9a52e14b64"
      },
      "source": [
        "comando = \"SALIR\"\n",
        "if comando == \"ENTRAR\":\n",
        "  print(\"Bienvenido al sistema\")\n",
        "elif comando == \"SALUDAR\":\n",
        "  print(\"Hola, ¿Cómo estás?\")\n",
        "elif comando == \"SALIR\":\n",
        "  print(\"Saliendo del sistema\")\n",
        "else:\n",
        "  print(\"No se reconoce el comando\")"
      ],
      "execution_count": 2,
      "outputs": [
        {
          "output_type": "stream",
          "text": [
            "Saliendo del sistema\n"
          ],
          "name": "stdout"
        }
      ]
    },
    {
      "cell_type": "markdown",
      "metadata": {
        "id": "jtI5XPKByHDM"
      },
      "source": [
        "Tema #11: **SENTENCIA WHILE**"
      ]
    },
    {
      "cell_type": "code",
      "metadata": {
        "colab": {
          "base_uri": "https://localhost:8080/"
        },
        "id": "WF0Uh5agyLX9",
        "outputId": "964b2a90-49e9-41c9-d540-215676ac6c2a"
      },
      "source": [
        "c = 0\n",
        "while c <= 5:\n",
        "  c += 1\n",
        "  print(\"C Vale\",c)\n",
        "else:\n",
        "  print(\"ha roto el while en\",c)"
      ],
      "execution_count": 3,
      "outputs": [
        {
          "output_type": "stream",
          "text": [
            "C Vale 1\n",
            "C Vale 2\n",
            "C Vale 3\n",
            "C Vale 4\n",
            "C Vale 5\n",
            "C Vale 6\n",
            "ha roto el while en 6\n"
          ],
          "name": "stdout"
        }
      ]
    },
    {
      "cell_type": "code",
      "metadata": {
        "colab": {
          "base_uri": "https://localhost:8080/"
        },
        "id": "DLdxD99ZyPjI",
        "outputId": "ed5b55c1-9e24-4658-db31-c435b8f8b8e5"
      },
      "source": [
        "c = 0\n",
        "while c <= 5:\n",
        "  c += 1\n",
        "  if c == 3:\n",
        "    break\n",
        "  print(\"C Vale\",c)\n",
        "else:\n",
        "  print(\"ha roto el while en\",c)"
      ],
      "execution_count": 4,
      "outputs": [
        {
          "output_type": "stream",
          "text": [
            "C Vale 1\n",
            "C Vale 2\n"
          ],
          "name": "stdout"
        }
      ]
    },
    {
      "cell_type": "code",
      "metadata": {
        "id": "2Xn5hMDnySKs"
      },
      "source": [
        "c = 0\n",
        "while c <= 5:\n",
        "  c += 1\n",
        "  if c == 3:\n",
        "    print(\"Contuinuamos con el siguiente\")\n",
        "    continue\n",
        "  print(\"C Vale\",c)\n",
        "else:\n",
        "  print(\"ha roto el while en\",c)"
      ],
      "execution_count": null,
      "outputs": []
    },
    {
      "cell_type": "markdown",
      "metadata": {
        "id": "S-uhCV2VyT4F"
      },
      "source": [
        "Tema #12: **SENTENCIA FOR**"
      ]
    },
    {
      "cell_type": "code",
      "metadata": {
        "colab": {
          "base_uri": "https://localhost:8080/"
        },
        "id": "JflTQqwCyan-",
        "outputId": "2adc1cdb-8a80-4776-dccc-81bd4fef54c7"
      },
      "source": [
        "numeros = [1,2,3,4,5,6,7,8,9]\n",
        "\n",
        "for numero in numeros:\n",
        "  print(numero)"
      ],
      "execution_count": 5,
      "outputs": [
        {
          "output_type": "stream",
          "text": [
            "1\n",
            "2\n",
            "3\n",
            "4\n",
            "5\n",
            "6\n",
            "7\n",
            "8\n",
            "9\n"
          ],
          "name": "stdout"
        }
      ]
    },
    {
      "cell_type": "code",
      "metadata": {
        "colab": {
          "base_uri": "https://localhost:8080/"
        },
        "id": "tb8ZoyMyyfli",
        "outputId": "90e26200-cdfb-4751-a252-bb7a25296123"
      },
      "source": [
        "for indice, numero in enumerate(numeros):\n",
        "  numeros[indice] *= 10\n",
        "numeros"
      ],
      "execution_count": 6,
      "outputs": [
        {
          "output_type": "execute_result",
          "data": {
            "text/plain": [
              "[10, 20, 30, 40, 50, 60, 70, 80, 90]"
            ]
          },
          "metadata": {
            "tags": []
          },
          "execution_count": 6
        }
      ]
    },
    {
      "cell_type": "markdown",
      "metadata": {
        "id": "8qGRsVeWz8M3"
      },
      "source": [
        "**Ejercicio #9: Realiza un programa que lea dos números por teclado y permita elegir entre 3 opciones en un menú:**\n",
        "1. Mostrar una suma de los dos números.\n",
        "2. Mostrar una resta de los dos números (el primero menos el segundo).\n",
        "3. Mostrar una multiplicación de los dos números.\n",
        "En caso de no introducir una opción valida, el programa informara de que no es correcta."
      ]
    },
    {
      "cell_type": "code",
      "metadata": {
        "colab": {
          "base_uri": "https://localhost:8080/"
        },
        "id": "eH78xucv0myJ",
        "outputId": "82df9d6e-2883-4f87-8411-676c3177eeae"
      },
      "source": [
        "num_1 = int(input(\"Digite el primer numero \"))\n",
        "num_2 = int(input(\"Digite el segundo numero \"))\n",
        "\n",
        "print(\"Digite la opcion correspondiente\")\n",
        "print(\"[1] si quiere sumar los dos numeros\")\n",
        "print(\"[2] si quiere restar los dos numeros\")\n",
        "print(\"[3] si quiere multiplicar los dos numeros\")\n",
        "opcion = int(input(\"Digite la opcion que prefiera: \"))\n",
        "\n",
        "if opcion == 1:\n",
        "  print(\"la suma entre\",num_1, \"y\", num_2, \"es:\", num_1 + num_2)\n",
        "elif opcion == 2:\n",
        "  print(\"la resta entre\",num_1, \"y\", num_2, \"es:\",num_1 - num_2)\n",
        "elif opcion == 3:\n",
        "  print(\"la multiplicación entre\",num_1, \"y\", num_2, \"es:\", num_1 * num_2)\n",
        "else:\n",
        "  print(\"Opción incorrecta\")"
      ],
      "execution_count": 7,
      "outputs": [
        {
          "output_type": "stream",
          "text": [
            "Digite el primer numero 1\n",
            "Digite el segundo numero 2\n",
            "Digite la opcion correspondiente\n",
            "[1] si quiere sumar los dos numeros\n",
            "[2] si quiere restar los dos numeros\n",
            "[3] si quiere multiplicar los dos numeros\n",
            "Digite la opcion que prefiera: 2\n",
            "la resta entre 1 y 2 es: -1\n"
          ],
          "name": "stdout"
        }
      ]
    },
    {
      "cell_type": "markdown",
      "metadata": {
        "id": "eIalDjbV0tT1"
      },
      "source": [
        "**Ejercicio #10: Realiza un programa que lea un número impar por teclado. Si el usuario no introduce un número impar, debe repetirse el proceso hasta que lo indtroduzca correctamente.**"
      ]
    },
    {
      "cell_type": "code",
      "metadata": {
        "colab": {
          "base_uri": "https://localhost:8080/"
        },
        "id": "FK510P-t1AzM",
        "outputId": "cab39e8c-be7c-414d-effb-b4301efb43d4"
      },
      "source": [
        "num = 0\n",
        "while (num % 2) == 0:\n",
        "  num = int(input(\"Escriba un número impar, por favor \"))\n",
        "else:\n",
        "  print(\"El numero impar es\", num)"
      ],
      "execution_count": 9,
      "outputs": [
        {
          "output_type": "stream",
          "text": [
            "Escriba un número impar, por favor 0\n",
            "Escriba un número impar, por favor 1\n",
            "El numero impar es 1\n"
          ],
          "name": "stdout"
        }
      ]
    },
    {
      "cell_type": "markdown",
      "metadata": {
        "id": "dVx5QyT91L6P"
      },
      "source": [
        "**Ejercicio #11: Realiza un programa que sume todos los números enteros pares desde el 0 hasta el 100.**"
      ]
    },
    {
      "cell_type": "code",
      "metadata": {
        "colab": {
          "base_uri": "https://localhost:8080/"
        },
        "id": "89eQohXP1Ukk",
        "outputId": "dc6911a8-cae3-4453-d241-beb865385345"
      },
      "source": [
        "suma = 0\n",
        "for num in range(0,101):\n",
        "  if num % 2 == 0:\n",
        "    suma += num\n",
        "print(suma)\n",
        "\n",
        "\n",
        "suma2 = sum(range(0,101,2))\n",
        "print(suma)"
      ],
      "execution_count": 10,
      "outputs": [
        {
          "output_type": "stream",
          "text": [
            "2550\n",
            "2550\n"
          ],
          "name": "stdout"
        }
      ]
    },
    {
      "cell_type": "markdown",
      "metadata": {
        "id": "QoGTh8j61zGK"
      },
      "source": [
        "**Ejercicio #12: Realiza un programa que pida al usuario cuantos números quiere introducir. Luego lee todos los números y realiza una media aritmética.**"
      ]
    },
    {
      "cell_type": "code",
      "metadata": {
        "colab": {
          "base_uri": "https://localhost:8080/"
        },
        "id": "MCVKDiUG2AF7",
        "outputId": "d91b1e05-a0db-4b6f-fe13-768e66ea22fa"
      },
      "source": [
        "num = int(input(\"Escriba la cantidad de números para hallar su media\"))\n",
        "contador = num\n",
        "sum = 0\n",
        "while contador > 0:\n",
        "  sum += int(input(\"Escriba el numero en la posición \"))\n",
        "  contador -= 1\n",
        "\n",
        "media = sum / num\n",
        "print(\"La media de los\",num, \"numeros introducidos es\",media)"
      ],
      "execution_count": 13,
      "outputs": [
        {
          "output_type": "stream",
          "text": [
            "Escriba la cantidad de números para hallar su media2\n",
            "Escriba el numero en la posición 1\n",
            "Escriba el numero en la posición 5\n",
            "La media de los 2 numeros introducidos es 3.0\n"
          ],
          "name": "stdout"
        }
      ]
    },
    {
      "cell_type": "markdown",
      "metadata": {
        "id": "P55CiEV32iss"
      },
      "source": [
        "**Ejercicio #13: Realiza un programa que pida al usuario un número entero del 0 al 9 y que mientras el número no sea correcto se repita el proceso. Luego debe comprobar si el número se encuentra en la lista de números y notificarlo.**\n",
        "\n",
        "Nota: La sintaxis \"valor in lista\" permite comprobar facilmente si un valor se encuentra en una lista (devuelve True o False)"
      ]
    },
    {
      "cell_type": "code",
      "metadata": {
        "colab": {
          "base_uri": "https://localhost:8080/"
        },
        "id": "bB0kslea21FT",
        "outputId": "30a49401-5dc0-45de-bd76-c9bc4db106bc"
      },
      "source": [
        "numeros = [1,3,6,9]\n",
        "while True:\n",
        "  num = int(input(\"Ingrese un numero entre el 0 y el 9 \"))\n",
        "  if num < 9 and num > 0:\n",
        "    break\n",
        "if num in numeros:\n",
        "  print(\"El número\",num,\"está en la lista\",numeros)\n",
        "else:\n",
        "  print(\"El número\",num,\"NO está en la lista\",numeros)"
      ],
      "execution_count": 15,
      "outputs": [
        {
          "output_type": "stream",
          "text": [
            "Ingrese un numero entre el 0 y el 9 4\n",
            "El número 4 NO está en la lista [1, 3, 6, 9]\n"
          ],
          "name": "stdout"
        }
      ]
    },
    {
      "cell_type": "markdown",
      "metadata": {
        "id": "WmpzrWVS3E8h"
      },
      "source": [
        "**Ejercicio #14: Utilizando la funcion range() y la conversión a listas genera las siguientes listas dinámicamente.**\n",
        "1. Todos los números del 0 al 10 [0, 1, 2, ... , 9, 10]\n",
        "2. Todos los números del -10 al 0 [-10, -9, -8, ... ,-1, 0]\n",
        "3. Todos los números pares del 0 al 20 [0, 2, 4, ... , 20]\n",
        "4. Todos los números impares entre -20 y 0 [-19, -17, -15, ... , -1]\n",
        "5. Todos los números multiplos de 5 del 0 al 50 [0, 5, 10, ... , 50]"
      ]
    },
    {
      "cell_type": "code",
      "metadata": {
        "colab": {
          "base_uri": "https://localhost:8080/"
        },
        "id": "gef_rIw04dlh",
        "outputId": "aa1576b4-ac74-4fb9-c038-271a4dc9640c"
      },
      "source": [
        "print(\"todos los números entre el 0 y el 10 son:\", list(range(0, 11)))\n",
        "print(\"todos los números entre el -10 y el 0 son:\", list(range(-10, 1)))\n",
        "print(\"todos los números pares entre el 0 y el 20 son:\", list(range(0, 21,2)))\n",
        "print(\"todos los números inpares entre el -20 y el 0 son:\", list(range(-19, 0, 2)))\n",
        "\n",
        "print(\"todos los números multiplos de 5 entre el 0 y el 50 son:\", list(range(0, 51, 5)))"
      ],
      "execution_count": 16,
      "outputs": [
        {
          "output_type": "stream",
          "text": [
            "todos los números entre el 0 y el 10 son: [0, 1, 2, 3, 4, 5, 6, 7, 8, 9, 10]\n",
            "todos los números entre el -10 y el 0 son: [-10, -9, -8, -7, -6, -5, -4, -3, -2, -1, 0]\n",
            "todos los números pares entre el 0 y el 20 son: [0, 2, 4, 6, 8, 10, 12, 14, 16, 18, 20]\n",
            "todos los números inpares entre el -20 y el 0 son: [-19, -17, -15, -13, -11, -9, -7, -5, -3, -1]\n",
            "todos los números multiplos de 5 entre el 0 y el 50 son: [0, 5, 10, 15, 20, 25, 30, 35, 40, 45, 50]\n"
          ],
          "name": "stdout"
        }
      ]
    },
    {
      "cell_type": "markdown",
      "metadata": {
        "id": "Fo06e7fE6b9a"
      },
      "source": [
        "**Ejercicio #15: Dadas dos listas, debes generar una tercera con todos los elementos que se repitan en ellas, pero no debe repetirse ningún elemento en la nueva lista.**"
      ]
    },
    {
      "cell_type": "code",
      "metadata": {
        "colab": {
          "base_uri": "https://localhost:8080/"
        },
        "id": "8HYPXLPB6o5i",
        "outputId": "e1078f2c-4708-4b94-ac55-4c9d80b151d3"
      },
      "source": [
        "lista_1 = [\"h\",\"o\",\"l\",\"a\",\" \",\"m\",\"u\",\"n\",\"d\",\"o\"]\n",
        "lista_2 = [\"h\",\"o\",\"l\",\"a\",\" \",\"l\",\"u\",\"n\",\"a\"]\n",
        "lista_3 = []\n",
        "\n",
        "for letra in lista_1:\n",
        "  if letra in lista_2 and letra not in lista_3:\n",
        "    lista_3.append(letra)\n",
        "print(lista_3)"
      ],
      "execution_count": 18,
      "outputs": [
        {
          "output_type": "stream",
          "text": [
            "['h', 'o', 'l', 'a', ' ', 'u', 'n']\n"
          ],
          "name": "stdout"
        }
      ]
    }
  ]
}