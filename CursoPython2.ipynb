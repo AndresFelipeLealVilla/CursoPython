{
  "nbformat": 4,
  "nbformat_minor": 0,
  "metadata": {
    "colab": {
      "name": "CursoPython2.ipynb",
      "provenance": [],
      "collapsed_sections": [],
      "authorship_tag": "ABX9TyPUgR78SUw7l57sJO4BYiZu",
      "include_colab_link": true
    },
    "kernelspec": {
      "name": "python3",
      "display_name": "Python 3"
    },
    "language_info": {
      "name": "python"
    }
  },
  "cells": [
    {
      "cell_type": "markdown",
      "metadata": {
        "id": "view-in-github",
        "colab_type": "text"
      },
      "source": [
        "<a href=\"https://colab.research.google.com/github/AndresFelipeLealVilla/CursoPython/blob/main/CursoPython2.ipynb\" target=\"_parent\"><img src=\"https://colab.research.google.com/assets/colab-badge.svg\" alt=\"Open In Colab\"/></a>"
      ]
    },
    {
      "cell_type": "markdown",
      "metadata": {
        "id": "2AMGMqVG8TYD"
      },
      "source": [
        "**Operadores y expresiones**"
      ]
    },
    {
      "cell_type": "markdown",
      "metadata": {
        "id": "udC_QxmJ8c67"
      },
      "source": [
        "Tema #7: **TIPO LÓGICO**"
      ]
    },
    {
      "cell_type": "code",
      "metadata": {
        "colab": {
          "base_uri": "https://localhost:8080/"
        },
        "id": "LDY-gcB58uiT",
        "outputId": "83998234-61fe-43c0-df08-968ee9b052d6"
      },
      "source": [
        "var = 1 + 1 == 3\n",
        "print(\"1 + 1 == 3\", 1 + 1 == 3)\n",
        "print(\"1 + 1 == 2\", 1 + 1 == 2)\n",
        "print(\"1 != 2\", 1 != 2)\n",
        "print(\"2 > 3\", 2 > 3)\n",
        "print(\"2 < 3\", 2 < 3)\n",
        "print(\"2 >= 3\", 2 >= 3)\n",
        "print(\"2 <= 3\", 2 <= 3)\n",
        "print('\"Hola\" == \"Hola\"', \"Hola\" == \"Hola\")\n",
        "print('\"Hola\" == \"hola\"',\"Hola\" == \"hola\")"
      ],
      "execution_count": 1,
      "outputs": [
        {
          "output_type": "stream",
          "text": [
            "1 + 1 == 3 False\n",
            "1 + 1 == 2 True\n",
            "1 != 2 True\n",
            "2 > 3 False\n",
            "2 < 3 True\n",
            "2 >= 3 False\n",
            "2 <= 3 True\n",
            "\"Hola\" == \"Hola\" True\n",
            "\"Hola\" == \"hola\" False\n"
          ],
          "name": "stdout"
        }
      ]
    },
    {
      "cell_type": "code",
      "metadata": {
        "colab": {
          "base_uri": "https://localhost:8080/"
        },
        "id": "quYAq43i9ZdL",
        "outputId": "9ae0b46e-3770-4cc4-d9d1-cf5693f5695d"
      },
      "source": [
        "c = \"Hola\"\n",
        "c[0] == \"H\""
      ],
      "execution_count": 2,
      "outputs": [
        {
          "output_type": "execute_result",
          "data": {
            "text/plain": [
              "True"
            ]
          },
          "metadata": {
            "tags": []
          },
          "execution_count": 2
        }
      ]
    },
    {
      "cell_type": "code",
      "metadata": {
        "colab": {
          "base_uri": "https://localhost:8080/"
        },
        "id": "cJWJaPpx9dnI",
        "outputId": "8f5b6bd4-3214-4342-e3e2-94f929ce693f"
      },
      "source": [
        "C1 = \"AMOR\"\n",
        "C2 = \"AIRE\"\n",
        "C1 == C2"
      ],
      "execution_count": 3,
      "outputs": [
        {
          "output_type": "execute_result",
          "data": {
            "text/plain": [
              "False"
            ]
          },
          "metadata": {
            "tags": []
          },
          "execution_count": 3
        }
      ]
    },
    {
      "cell_type": "code",
      "metadata": {
        "colab": {
          "base_uri": "https://localhost:8080/"
        },
        "id": "z6hqE5f99h7W",
        "outputId": "1b577283-40ad-4338-fc51-bbc4fb5f8066"
      },
      "source": [
        "len(C1) == len(C2)"
      ],
      "execution_count": 4,
      "outputs": [
        {
          "output_type": "execute_result",
          "data": {
            "text/plain": [
              "True"
            ]
          },
          "metadata": {
            "tags": []
          },
          "execution_count": 4
        }
      ]
    },
    {
      "cell_type": "code",
      "metadata": {
        "colab": {
          "base_uri": "https://localhost:8080/"
        },
        "id": "IDgEJAmF9lCF",
        "outputId": "9dd7d2a0-9c46-4322-a5fe-959e2de70026"
      },
      "source": [
        "print(True > False)\n",
        "print(True * 3)\n",
        "print(False * 3)"
      ],
      "execution_count": 6,
      "outputs": [
        {
          "output_type": "stream",
          "text": [
            "True\n",
            "3\n",
            "0\n"
          ],
          "name": "stdout"
        }
      ]
    },
    {
      "cell_type": "markdown",
      "metadata": {
        "id": "3ofTft2j97Be"
      },
      "source": [
        "Tema #8: **OPERADORES LÓGICOS**"
      ]
    },
    {
      "cell_type": "code",
      "metadata": {
        "colab": {
          "base_uri": "https://localhost:8080/"
        },
        "id": "gjxnC17rlU41",
        "outputId": "dc318555-d010-4ff1-f0ad-7dcdcf5b9879"
      },
      "source": [
        "print(not True == False)\n",
        "print(True and True)"
      ],
      "execution_count": 1,
      "outputs": [
        {
          "output_type": "stream",
          "text": [
            "True\n",
            "True\n"
          ],
          "name": "stdout"
        }
      ]
    },
    {
      "cell_type": "code",
      "metadata": {
        "colab": {
          "base_uri": "https://localhost:8080/"
        },
        "id": "bR2gZQbLlnyd",
        "outputId": "f747cd1b-0966-4f01-f9e7-edb223ccfcff"
      },
      "source": [
        "a = 7\n",
        "b = 10\n",
        "13 > a and 13 > b"
      ],
      "execution_count": 2,
      "outputs": [
        {
          "output_type": "execute_result",
          "data": {
            "text/plain": [
              "True"
            ]
          },
          "metadata": {
            "tags": []
          },
          "execution_count": 2
        }
      ]
    },
    {
      "cell_type": "code",
      "metadata": {
        "colab": {
          "base_uri": "https://localhost:8080/"
        },
        "id": "9UQryUW0lqhp",
        "outputId": "cf054cb9-0a67-4a2e-cc95-f6664d444255"
      },
      "source": [
        "True or False"
      ],
      "execution_count": 3,
      "outputs": [
        {
          "output_type": "execute_result",
          "data": {
            "text/plain": [
              "True"
            ]
          },
          "metadata": {
            "tags": []
          },
          "execution_count": 3
        }
      ]
    },
    {
      "cell_type": "markdown",
      "metadata": {
        "id": "t8mpSrfylzmr"
      },
      "source": [
        "Tema #9: **OPERADORES DE ASIGNACIÓN**"
      ]
    },
    {
      "cell_type": "code",
      "metadata": {
        "colab": {
          "base_uri": "https://localhost:8080/"
        },
        "id": "Ko4ia-ppmED3",
        "outputId": "10da0a8c-b312-4de8-cea4-4be66dc04b2f"
      },
      "source": [
        "a = 1\n",
        "a += 5 #suma en asignación\n",
        "print(a)\n",
        "\n",
        "a -= 2 #resta en asignación\n",
        "print(a)\n",
        "\n",
        "a *= 2 #multiplicacion en asignación\n",
        "print(a)\n",
        "\n",
        "a /= 3 #division en asignación\n",
        "print(a)\n",
        "\n",
        "a %= 2 #modulo en asignación\n",
        "print(a)\n",
        "\n",
        "a = 2\n",
        "a **= 5 #potencia en asignación\n",
        "print(a)"
      ],
      "execution_count": 9,
      "outputs": [
        {
          "output_type": "stream",
          "text": [
            "6\n",
            "4\n",
            "8\n",
            "2.6666666666666665\n",
            "0.6666666666666665\n",
            "32\n"
          ],
          "name": "stdout"
        }
      ]
    },
    {
      "cell_type": "markdown",
      "metadata": {
        "id": "hgSZOv8_vIh6"
      },
      "source": [
        "**Ejercicio #6: Realiza un programa que lea 2 números por teclado y determine los siguientes aspectos (es suficiente con mostrar True o False)**:\n",
        "1. Si los dos números son iguales.\n",
        "2. Si los dos numeros son diferentes.\n",
        "3. Si el primero es mayor que el segundo.\n",
        "4. Si el segundo es mayor que el primero. "
      ]
    },
    {
      "cell_type": "code",
      "metadata": {
        "colab": {
          "base_uri": "https://localhost:8080/"
        },
        "id": "l2V0O_y3mWxJ",
        "outputId": "73d8713b-702f-4e39-bec1-cca5b9a51564"
      },
      "source": [
        "numero_1 = input(\"Ingrese el primer numero \")\n",
        "numero_2 = input(\"Ingrese el segundo numero \")\n",
        "\n",
        "print(\"¿Los dos numeros son iguales? \", numero_1 == numero_2)\n",
        "print(\"¿Los dos numeros son diferentes? \", numero_1 != numero_2)\n",
        "print(\"¿El primero es mayor? \", numero_1 > numero_2)\n",
        "print(\"¿El segundo es mayor? \",numero_1 <= numero_2)+"
      ],
      "execution_count": 10,
      "outputs": [
        {
          "output_type": "stream",
          "text": [
            "Ingrese el primer numero 2\n",
            "Ingrese el segundo numero 2\n",
            "¿Los dos numeros son iguales?  True\n",
            "¿Los dos numeros son diferentes?  False\n",
            "¿El primero es mayor?  False\n",
            "¿El segundo es mayor?  True\n"
          ],
          "name": "stdout"
        }
      ]
    },
    {
      "cell_type": "markdown",
      "metadata": {
        "id": "BLR81sHTv2Pn"
      },
      "source": [
        "**Ejercicio #7: Utilizando operadores logicos, determine si una cadena de texto introducida por el usuario tiene una longitud mayor o igual que 3 y a su vez es menor que 10 (es sufiente con mostrar True o False)**"
      ]
    },
    {
      "cell_type": "code",
      "metadata": {
        "colab": {
          "base_uri": "https://localhost:8080/"
        },
        "id": "E7vFuOPDmfxh",
        "outputId": "9449d60d-0e15-47c2-c656-78a935b4114e"
      },
      "source": [
        "cadena = input(\"Ingrese su cadena aqui --> \")\n",
        "len(cadena) >= 3 and len(cadena) < 10"
      ],
      "execution_count": 11,
      "outputs": [
        {
          "output_type": "stream",
          "text": [
            "Ingrese su cadena aqui --> asdfasd\n"
          ],
          "name": "stdout"
        },
        {
          "output_type": "execute_result",
          "data": {
            "text/plain": [
              "True"
            ]
          },
          "metadata": {
            "tags": []
          },
          "execution_count": 11
        }
      ]
    },
    {
      "cell_type": "markdown",
      "metadata": {
        "id": "t-8xEjfCwZBW"
      },
      "source": [
        "**Ejercicio #8: Realiza un programa que cumpla el siguiente algoritmo utilizando siempre que sea posible operadores en asignación:**\n",
        "1. Guarda en una variable numero_magico el valor 12345679 (sin el 8)\n",
        "2. Lee por pantalla otro numero_usuario. Especifica que sea entre 1 y 9 (asegurate que es un número)\n",
        "3. Multiplica el numero_usuario por 9 en si mismo.\n",
        "4. Multiplica el numero_magico por el numero_usuario en si mismo.\n",
        "5. Finalmente muestra el valor final del numero_magico por pantalla.\n"
      ]
    },
    {
      "cell_type": "code",
      "metadata": {
        "colab": {
          "base_uri": "https://localhost:8080/"
        },
        "id": "bvwY6yx4mpsA",
        "outputId": "c2e537b7-aea6-4bf0-f686-2836b32fd7af"
      },
      "source": [
        "num_magico = 12345679\n",
        "num_prueba = int (input(\"Ingrese un numero ente 1 y 9 --> \"))\n",
        "\n",
        "num_prueba *= 9\n",
        "num_magico *= num_prueba\n",
        "print(num_magico)"
      ],
      "execution_count": 12,
      "outputs": [
        {
          "output_type": "stream",
          "text": [
            "Ingrese un numero ente 1 y 9 --> 4\n",
            "444444444\n"
          ],
          "name": "stdout"
        }
      ]
    }
  ]
}