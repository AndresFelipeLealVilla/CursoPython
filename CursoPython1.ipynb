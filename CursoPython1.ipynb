{
  "nbformat": 4,
  "nbformat_minor": 0,
  "metadata": {
    "colab": {
      "name": "CursoPython1.ipynb",
      "provenance": [],
      "collapsed_sections": [],
      "authorship_tag": "ABX9TyOWcunQzADdAnqQETm3wC9z",
      "include_colab_link": true
    },
    "kernelspec": {
      "name": "python3",
      "display_name": "Python 3"
    },
    "language_info": {
      "name": "python"
    }
  },
  "cells": [
    {
      "cell_type": "markdown",
      "metadata": {
        "id": "view-in-github",
        "colab_type": "text"
      },
      "source": [
        "<a href=\"https://colab.research.google.com/github/AndresFelipeLealVilla/CursoPython/blob/main/CursoPython1.ipynb\" target=\"_parent\"><img src=\"https://colab.research.google.com/assets/colab-badge.svg\" alt=\"Open In Colab\"/></a>"
      ]
    },
    {
      "cell_type": "markdown",
      "metadata": {
        "id": "5kHPmKrWYWM-"
      },
      "source": [
        "Hola mundo"
      ]
    },
    {
      "cell_type": "code",
      "metadata": {
        "colab": {
          "base_uri": "https://localhost:8080/"
        },
        "id": "OOi49-SSYaNs",
        "outputId": "479c3adc-16b5-4144-a719-e6ef7a72bb36"
      },
      "source": [
        "print(\"Hola mundo\")"
      ],
      "execution_count": null,
      "outputs": [
        {
          "output_type": "stream",
          "text": [
            "Hola mundo\n"
          ],
          "name": "stdout"
        }
      ]
    },
    {
      "cell_type": "markdown",
      "metadata": {
        "id": "m4uPsNB-Yivp"
      },
      "source": [
        "Tema #1: **NÚMEROS**"
      ]
    },
    {
      "cell_type": "code",
      "metadata": {
        "colab": {
          "base_uri": "https://localhost:8080/"
        },
        "id": "nQFHPwCqXuVn",
        "outputId": "d35f52db-21ee-468f-c373-6ce62d1e6caa"
      },
      "source": [
        "print(3/2)\n",
        "print(3%2)\n",
        "print(3**2)\n"
      ],
      "execution_count": null,
      "outputs": [
        {
          "output_type": "stream",
          "text": [
            "1.5\n",
            "1\n",
            "9\n"
          ],
          "name": "stdout"
        }
      ]
    },
    {
      "cell_type": "markdown",
      "metadata": {
        "id": "LioehihrYxJd"
      },
      "source": [
        "Tema #2: **VARIABLES**"
      ]
    },
    {
      "cell_type": "code",
      "metadata": {
        "colab": {
          "base_uri": "https://localhost:8080/"
        },
        "id": "6cWFF7O4bkyf",
        "outputId": "88dc5ac0-d0bf-49d4-95c0-61ba5dd00d0f"
      },
      "source": [
        "n = 3\n",
        "print(n)\n",
        "print(n*2)\n",
        "print(n*n)\n",
        "\n",
        "m = 4\n",
        "print(n+m)\n",
        "n = 5\n",
        "m = 6\n",
        "print(n+m)\n",
        "n = m\n",
        "print (n)\n",
        "m = n + 10\n",
        "print (m)"
      ],
      "execution_count": null,
      "outputs": [
        {
          "output_type": "stream",
          "text": [
            "3\n",
            "6\n",
            "9\n",
            "7\n",
            "11\n",
            "6\n",
            "16\n"
          ],
          "name": "stdout"
        }
      ]
    },
    {
      "cell_type": "markdown",
      "metadata": {
        "id": "XiH8FwPbZMF_"
      },
      "source": [
        "Tema #3: **TEXTOS**"
      ]
    },
    {
      "cell_type": "code",
      "metadata": {
        "colab": {
          "base_uri": "https://localhost:8080/"
        },
        "id": "8DJiCmd2dwlp",
        "outputId": "fc430e3b-5ca1-4bd5-81cf-f523894f3a9d"
      },
      "source": [
        "print('Hola mundo')\n",
        "print(\"Hola mundo\")\n",
        "\n",
        "print('Esta \"palabra\" se encuentra escrita con \"\" ')\n",
        "print(\"Esta \\\"palabra\\\" se encuentra escrita con \" \" \")\n",
        "print('Esta \"palabra\" se encuentra escrita con \"\" ')"
      ],
      "execution_count": null,
      "outputs": [
        {
          "output_type": "stream",
          "text": [
            "Hola mundo\n",
            "Hola mundo\n",
            "Esta \"palabra\" se encuentra escrita con \"\" \n",
            "Esta \"palabra\" se encuentra escrita con  \n",
            "Esta \"palabra\" se encuentra escrita con \"\" \n"
          ],
          "name": "stdout"
        }
      ]
    },
    {
      "cell_type": "code",
      "metadata": {
        "colab": {
          "base_uri": "https://localhost:8080/"
        },
        "id": "Wg9C1OyHfgaA",
        "outputId": "25e43ade-0e2d-4c1e-ad39-35b6698b5caa"
      },
      "source": [
        "print('Una cadena')\n",
        "print('Otra cadena')\n",
        "print('Otra cadena más')"
      ],
      "execution_count": null,
      "outputs": [
        {
          "output_type": "stream",
          "text": [
            "Una cadena\n",
            "Otra cadena\n",
            "Otra cadena más\n"
          ],
          "name": "stdout"
        }
      ]
    },
    {
      "cell_type": "code",
      "metadata": {
        "colab": {
          "base_uri": "https://localhost:8080/"
        },
        "id": "AC-u0BG0hPUu",
        "outputId": "b64b381b-7e52-43d4-9f68-d6c24e5d4c48"
      },
      "source": [
        "print('un texto \\tuna tabulación')\n",
        "print('un texto \\nuna nueva linea')"
      ],
      "execution_count": null,
      "outputs": [
        {
          "output_type": "stream",
          "text": [
            "un texto \tuna tabulación\n",
            "un texto \n",
            "una nueva linea\n"
          ],
          "name": "stdout"
        }
      ]
    },
    {
      "cell_type": "code",
      "metadata": {
        "colab": {
          "base_uri": "https://localhost:8080/"
        },
        "id": "mIzi04d8h5JR",
        "outputId": "5b05750c-f504-4cfd-a3b9-056820429012"
      },
      "source": [
        "print(r\"un texto \\tuna tabulacion\")"
      ],
      "execution_count": null,
      "outputs": [
        {
          "output_type": "stream",
          "text": [
            "un texto \\tuna tabulacion\n"
          ],
          "name": "stdout"
        }
      ]
    },
    {
      "cell_type": "code",
      "metadata": {
        "colab": {
          "base_uri": "https://localhost:8080/",
          "height": 35
        },
        "id": "4ldi1gYCibQz",
        "outputId": "215ff336-f878-476e-c691-887cd04f1496"
      },
      "source": [
        "c = \"esto es una cadena con \\n dos lineas\"\n",
        "c"
      ],
      "execution_count": null,
      "outputs": [
        {
          "output_type": "execute_result",
          "data": {
            "application/vnd.google.colaboratory.intrinsic+json": {
              "type": "string"
            },
            "text/plain": [
              "'esto es una cadena con \\n dos lineas'"
            ]
          },
          "metadata": {
            "tags": []
          },
          "execution_count": 10
        }
      ]
    },
    {
      "cell_type": "code",
      "metadata": {
        "colab": {
          "base_uri": "https://localhost:8080/"
        },
        "id": "YBlDNkOIil7V",
        "outputId": "af048136-dedd-46d0-cfda-561aa277a9d1"
      },
      "source": [
        "print(c)"
      ],
      "execution_count": null,
      "outputs": [
        {
          "output_type": "stream",
          "text": [
            "esto es una cadena con \n",
            " dos lineas\n"
          ],
          "name": "stdout"
        }
      ]
    },
    {
      "cell_type": "code",
      "metadata": {
        "id": "OnwBzWahiy7A",
        "colab": {
          "base_uri": "https://localhost:8080/",
          "height": 35
        },
        "outputId": "92bdddd8-d4c4-40ad-af99-4f6254747b8a"
      },
      "source": [
        "c+c"
      ],
      "execution_count": null,
      "outputs": [
        {
          "output_type": "execute_result",
          "data": {
            "application/vnd.google.colaboratory.intrinsic+json": {
              "type": "string"
            },
            "text/plain": [
              "'esto es una cadena con \\n dos lineasesto es una cadena con \\n dos lineas'"
            ]
          },
          "metadata": {
            "tags": []
          },
          "execution_count": 12
        }
      ]
    },
    {
      "cell_type": "code",
      "metadata": {
        "id": "zGQ-k1NMi1Xc",
        "colab": {
          "base_uri": "https://localhost:8080/"
        },
        "outputId": "bb6810e8-bc74-4341-df7b-2be67aa490c9"
      },
      "source": [
        "print(c + c)"
      ],
      "execution_count": null,
      "outputs": [
        {
          "output_type": "stream",
          "text": [
            "esto es una cadena con \n",
            " dos lineasesto es una cadena con \n",
            " dos lineas\n"
          ],
          "name": "stdout"
        }
      ]
    },
    {
      "cell_type": "markdown",
      "metadata": {
        "id": "Kp8Nit3cZZIn"
      },
      "source": [
        "Tema #4: **INDICES**"
      ]
    },
    {
      "cell_type": "code",
      "metadata": {
        "id": "u9xQOggGi3rM",
        "colab": {
          "base_uri": "https://localhost:8080/"
        },
        "outputId": "c60e3062-cf35-4ea6-b9f6-eefa324f00fb"
      },
      "source": [
        "palabra = \"python\"\n",
        "print(palabra[0])\n",
        "print(palabra[-1])\n",
        "print(palabra[-2])\n",
        "\n",
        "print(palabra[0:2])\n",
        "print(palabra[2:])\n",
        "print(palabra[:4])\n",
        "print(palabra[:])"
      ],
      "execution_count": null,
      "outputs": [
        {
          "output_type": "stream",
          "text": [
            "p\n",
            "n\n",
            "o\n",
            "py\n",
            "thon\n",
            "pyth\n",
            "python\n"
          ],
          "name": "stdout"
        }
      ]
    },
    {
      "cell_type": "code",
      "metadata": {
        "colab": {
          "base_uri": "https://localhost:8080/",
          "height": 35
        },
        "id": "lkVR7oXZMjK3",
        "outputId": "c77f9e95-eb75-45e9-d274-e2e4bc930dd8"
      },
      "source": [
        "palabra[:2] + palabra[2:]"
      ],
      "execution_count": null,
      "outputs": [
        {
          "output_type": "execute_result",
          "data": {
            "application/vnd.google.colaboratory.intrinsic+json": {
              "type": "string"
            },
            "text/plain": [
              "'python'"
            ]
          },
          "metadata": {
            "tags": []
          },
          "execution_count": 15
        }
      ]
    },
    {
      "cell_type": "markdown",
      "metadata": {
        "id": "iJ8euUaTwY4C"
      },
      "source": [
        "Ejercicio #2: Convertir la palabra \"Python\" a \"Nython\" usando Slicing."
      ]
    },
    {
      "cell_type": "markdown",
      "metadata": {
        "id": "xsDrHcAj1GOH"
      },
      "source": [
        ""
      ]
    },
    {
      "cell_type": "code",
      "metadata": {
        "colab": {
          "base_uri": "https://localhost:8080/",
          "height": 35
        },
        "id": "_et2ly7LNR8a",
        "outputId": "55ec32ee-2424-48d8-dba6-d1885a63ccd9"
      },
      "source": [
        "palabra = \"Python\"\n",
        "palabra = 'N' + palabra[1:]\n",
        "palabra"
      ],
      "execution_count": null,
      "outputs": [
        {
          "output_type": "execute_result",
          "data": {
            "application/vnd.google.colaboratory.intrinsic+json": {
              "type": "string"
            },
            "text/plain": [
              "'Nython'"
            ]
          },
          "metadata": {
            "tags": []
          },
          "execution_count": 16
        }
      ]
    },
    {
      "cell_type": "markdown",
      "metadata": {
        "id": "k62nA5PxZiC3"
      },
      "source": [
        "Tema #5: **Listas**"
      ]
    },
    {
      "cell_type": "code",
      "metadata": {
        "colab": {
          "base_uri": "https://localhost:8080/"
        },
        "id": "5C64OEKZOQvT",
        "outputId": "4205168a-b4e2-4542-aae0-47d282d0a6c4"
      },
      "source": [
        "numeros = [1,2,3,4]\n",
        "print(numeros)\n",
        "\n",
        "dato = [1, \"palabra\", -8]\n",
        "print(dato)"
      ],
      "execution_count": null,
      "outputs": [
        {
          "output_type": "stream",
          "text": [
            "[1, 2, 3, 4]\n",
            "[1, 'palabra', -8]\n"
          ],
          "name": "stdout"
        }
      ]
    },
    {
      "cell_type": "code",
      "metadata": {
        "colab": {
          "base_uri": "https://localhost:8080/"
        },
        "id": "H_hKRNqxOtFZ",
        "outputId": "ac4842c5-63f2-46b5-f545-92900cd1808d"
      },
      "source": [
        "print(numeros[0])\n",
        "print(numeros[-1])\n",
        "print(dato[1])\n",
        "print(dato[-1])"
      ],
      "execution_count": null,
      "outputs": [
        {
          "output_type": "stream",
          "text": [
            "1\n",
            "4\n",
            "palabra\n",
            "-8\n"
          ],
          "name": "stdout"
        }
      ]
    },
    {
      "cell_type": "code",
      "metadata": {
        "colab": {
          "base_uri": "https://localhost:8080/"
        },
        "id": "j4DBAKAbO-BE",
        "outputId": "d0432d41-3d91-4400-eda2-67ccd2d7b399"
      },
      "source": [
        "numeros_nuevos = numeros + [5,6,7,8]\n",
        "numeros_nuevos"
      ],
      "execution_count": null,
      "outputs": [
        {
          "output_type": "execute_result",
          "data": {
            "text/plain": [
              "[1, 2, 3, 4, 5, 6, 7, 8]"
            ]
          },
          "metadata": {
            "tags": []
          },
          "execution_count": 19
        }
      ]
    },
    {
      "cell_type": "code",
      "metadata": {
        "colab": {
          "base_uri": "https://localhost:8080/"
        },
        "id": "zUNknT05PVIG",
        "outputId": "23b76775-4357-4fe9-cc5b-105e40812bb9"
      },
      "source": [
        "pares = [0,2,4,5,8,10]\n",
        "pares[3] = 6\n",
        "pares"
      ],
      "execution_count": null,
      "outputs": [
        {
          "output_type": "execute_result",
          "data": {
            "text/plain": [
              "[0, 2, 4, 6, 8, 10]"
            ]
          },
          "metadata": {
            "tags": []
          },
          "execution_count": 20
        }
      ]
    },
    {
      "cell_type": "code",
      "metadata": {
        "colab": {
          "base_uri": "https://localhost:8080/"
        },
        "id": "FJCn5rtxP0RW",
        "outputId": "240515dd-4f24-487b-9418-1e4da17df2bf"
      },
      "source": [
        "pares.append(12)\n",
        "print(pares)\n",
        "pares.append(7*2)\n",
        "print(pares)"
      ],
      "execution_count": null,
      "outputs": [
        {
          "output_type": "stream",
          "text": [
            "[0, 2, 4, 6, 8, 10, 12]\n",
            "[0, 2, 4, 6, 8, 10, 12, 14]\n"
          ],
          "name": "stdout"
        }
      ]
    },
    {
      "cell_type": "code",
      "metadata": {
        "colab": {
          "base_uri": "https://localhost:8080/"
        },
        "id": "WUm6Fs11QVBM",
        "outputId": "7d97202e-d99c-4ac5-8387-2211d23ad45c"
      },
      "source": [
        "pares[:3] = [-4, -2, 0]\n",
        "print(pares)"
      ],
      "execution_count": null,
      "outputs": [
        {
          "output_type": "stream",
          "text": [
            "[-4, -2, 0, 6, 8, 10, 12, 14]\n"
          ],
          "name": "stdout"
        }
      ]
    },
    {
      "cell_type": "code",
      "metadata": {
        "colab": {
          "base_uri": "https://localhost:8080/"
        },
        "id": "QW2RQR4cRXS_",
        "outputId": "451825a3-5418-4d6a-fe5d-388f06f5eaca"
      },
      "source": [
        "pares[:3] = []\n",
        "print(pares)\n",
        "len(pares)"
      ],
      "execution_count": null,
      "outputs": [
        {
          "output_type": "stream",
          "text": [
            "[6, 8, 10, 12, 14]\n"
          ],
          "name": "stdout"
        },
        {
          "output_type": "execute_result",
          "data": {
            "text/plain": [
              "5"
            ]
          },
          "metadata": {
            "tags": []
          },
          "execution_count": 23
        }
      ]
    },
    {
      "cell_type": "code",
      "metadata": {
        "colab": {
          "base_uri": "https://localhost:8080/"
        },
        "id": "MUtFFo8cSR-2",
        "outputId": "95fb3a70-6a16-46ad-c590-d73578836ed9"
      },
      "source": [
        "a = [1,2,3]\n",
        "b = [4,5,6]\n",
        "c = [7,8,9]\n",
        "\n",
        "r = [a,b,c]\n",
        "\n",
        "print(r[0][0])\n",
        "print(r[0][1])\n",
        "print(r[0][2])\n",
        "\n",
        "print(r[1][2])\n",
        "\n",
        "print(r[2][1])"
      ],
      "execution_count": null,
      "outputs": [
        {
          "output_type": "stream",
          "text": [
            "1\n",
            "2\n",
            "3\n",
            "6\n",
            "8\n"
          ],
          "name": "stdout"
        }
      ]
    },
    {
      "cell_type": "markdown",
      "metadata": {
        "id": "7LVPtLlLZ03W"
      },
      "source": [
        "Tema #6: **LECTURA POR TECLADO**"
      ]
    },
    {
      "cell_type": "code",
      "metadata": {
        "colab": {
          "base_uri": "https://localhost:8080/"
        },
        "id": "iVKRk0FQYdeE",
        "outputId": "0d75e58c-6e30-4b30-c7b4-faff5e1d8dcd"
      },
      "source": [
        "dato = input()"
      ],
      "execution_count": null,
      "outputs": [
        {
          "output_type": "stream",
          "text": [
            "5\n"
          ],
          "name": "stdout"
        }
      ]
    },
    {
      "cell_type": "code",
      "metadata": {
        "colab": {
          "base_uri": "https://localhost:8080/"
        },
        "id": "MimJ81VZb2fz",
        "outputId": "9ce059fd-341c-4358-d9ee-3390a5491bc5"
      },
      "source": [
        "valor = input(\"Introduce un Número entero: \")\n",
        "valor = int(valor)\n",
        "print (valor + 5)"
      ],
      "execution_count": null,
      "outputs": [
        {
          "output_type": "stream",
          "text": [
            "Introduce un Número entero: 5\n",
            "10\n"
          ],
          "name": "stdout"
        }
      ]
    },
    {
      "cell_type": "code",
      "metadata": {
        "colab": {
          "base_uri": "https://localhost:8080/"
        },
        "id": "KO-nVPxCd3b3",
        "outputId": "ce0e662c-ff75-410e-a47d-7fbc195ad859"
      },
      "source": [
        "valor = input(\"Introduce un Número decimal: \")\n",
        "valor = float(valor)\n",
        "print (valor + 5)"
      ],
      "execution_count": null,
      "outputs": [
        {
          "output_type": "stream",
          "text": [
            "Introduce un Número decimal: 1.5\n",
            "6.5\n"
          ],
          "name": "stdout"
        }
      ]
    },
    {
      "cell_type": "code",
      "metadata": {
        "colab": {
          "base_uri": "https://localhost:8080/"
        },
        "id": "-8Wsx4F1eVeO",
        "outputId": "45622970-ddf9-47a5-8c0b-9a4eacf77343"
      },
      "source": [
        "valor = float(input(\"Introduce un Número decimal o entero\"))\n",
        "print(valor)"
      ],
      "execution_count": null,
      "outputs": [
        {
          "output_type": "stream",
          "text": [
            "Introduce un Número decimal o entero1\n",
            "1.0\n"
          ],
          "name": "stdout"
        }
      ]
    },
    {
      "cell_type": "markdown",
      "metadata": {
        "id": "qIRlojyo0kfd"
      },
      "source": [
        "**Ejercicio #1: Hallar el promedio de dos notas.**"
      ]
    },
    {
      "cell_type": "code",
      "metadata": {
        "colab": {
          "base_uri": "https://localhost:8080/"
        },
        "id": "hdnpYq9u0u-w",
        "outputId": "cfcda191-6a95-4470-8d6b-701d120f813b"
      },
      "source": [
        "nota_1 = 4.5\n",
        "nota_2 = 1.5\n",
        "nota_media =(nota_1 + nota_2)/2\n",
        "nota_media"
      ],
      "execution_count": null,
      "outputs": [
        {
          "output_type": "execute_result",
          "data": {
            "text/plain": [
              "3.0"
            ]
          },
          "metadata": {
            "tags": []
          },
          "execution_count": 4
        }
      ]
    },
    {
      "cell_type": "markdown",
      "metadata": {
        "id": "v7dBAN6w1LFo"
      },
      "source": [
        "**Ejercicio #2: Convertir la palabra \"Python\" a \"Nython\" usando Slicing.**"
      ]
    },
    {
      "cell_type": "code",
      "metadata": {
        "colab": {
          "base_uri": "https://localhost:8080/",
          "height": 35
        },
        "id": "LFnp8PDm1Ssd",
        "outputId": "55ec32ee-2424-48d8-dba6-d1885a63ccd9"
      },
      "source": [
        "palabra = \"Python\"\n",
        "palabra = 'N' + palabra[1:]\n",
        "palabra"
      ],
      "execution_count": null,
      "outputs": [
        {
          "output_type": "execute_result",
          "data": {
            "application/vnd.google.colaboratory.intrinsic+json": {
              "type": "string"
            },
            "text/plain": [
              "'Nython'"
            ]
          },
          "metadata": {
            "tags": []
          },
          "execution_count": 16
        }
      ]
    },
    {
      "cell_type": "markdown",
      "metadata": {
        "id": "as4oNVQOaCDv"
      },
      "source": [
        "**EJERCICIO #3: Hallar el promedio de tres calificaciones, las cuales se puntuan así:**\n",
        "\n",
        "> nota1: 10 con porcentaje de 15%\n",
        "\n",
        "> nota2: 7 con porcentaje de 35%\n",
        "\n",
        "> nota3: 4 con porcentaje de 50%\n"
      ]
    },
    {
      "cell_type": "code",
      "metadata": {
        "colab": {
          "base_uri": "https://localhost:8080/"
        },
        "id": "ekJqaQsXjlCL",
        "outputId": "5c661edf-3660-41d2-a3fe-27ab70795492"
      },
      "source": [
        "nota1 = 10\n",
        "nota2 = 7\n",
        "nota3 = 4\n",
        "\n",
        "nota_f1 = nota1 * 0.15\n",
        "nota_f2 = nota2 * 0.35\n",
        "nota_f3 = nota3 * 0.5\n",
        "\n",
        "nota_total = nota_f1 + nota_f2 + nota_f3\n",
        "nota_total"
      ],
      "execution_count": null,
      "outputs": [
        {
          "output_type": "execute_result",
          "data": {
            "text/plain": [
              "5.949999999999999"
            ]
          },
          "metadata": {
            "tags": []
          },
          "execution_count": 29
        }
      ]
    },
    {
      "cell_type": "markdown",
      "metadata": {
        "id": "Ejvyhsq9vGV2"
      },
      "source": [
        "**Ejercicio #4: Corregir la siguiente matriz, teniendo en cuenta que el número en la ultima posicion en horizontal es la suma de sus otros numeros.**\n",
        "\n",
        "[\n",
        "  \n",
        "  [1,1,1,3],\n",
        "\n",
        "  [2,2,2,7],\n",
        "\n",
        "  [3,3,3,9],\n",
        "\n",
        "  [4,4,4,12]\n",
        "\n",
        "]\n",
        "\n",
        "> Nota: se puede usar la opción sum()\n",
        "\n"
      ]
    },
    {
      "cell_type": "code",
      "metadata": {
        "colab": {
          "base_uri": "https://localhost:8080/"
        },
        "id": "l5DmR5pFoc86",
        "outputId": "fc1d2267-a639-4c95-8657-eda5317e2cd9"
      },
      "source": [
        "matriz = [\n",
        "          [1,1,1,3],\n",
        "          [2,2,2,7],\n",
        "          [3,3,3,9],\n",
        "          [4,4,4,16]\n",
        "]\n",
        "\n",
        "matriz[1][3] = sum(matriz[1][:-1])\n",
        "matriz[3][3] = matriz[3][0] + matriz[3][1] + matriz[3][2]\n",
        "matriz"
      ],
      "execution_count": null,
      "outputs": [
        {
          "output_type": "execute_result",
          "data": {
            "text/plain": [
              "[[1, 1, 1, 3], [2, 2, 2, 6], [3, 3, 3, 9], [4, 4, 4, 12]]"
            ]
          },
          "metadata": {
            "tags": []
          },
          "execution_count": 30
        }
      ]
    },
    {
      "cell_type": "markdown",
      "metadata": {
        "id": "8N0v4IFKzDiU"
      },
      "source": [
        "**Ejercicio #5: Existe una cadena que debe ser invertida, el orden correcto debe ser nombre apellido, numero.**\n",
        "\n",
        "cadena = \"\"zereP nauJ, 01\"\""
      ]
    },
    {
      "cell_type": "code",
      "metadata": {
        "colab": {
          "base_uri": "https://localhost:8080/"
        },
        "id": "CYSfP2vgq5D0",
        "outputId": "f7bfbf4e-f441-4fe4-8788-1dcb7be88b47"
      },
      "source": [
        "cadena = \"zereP nauJ, 01\"\n",
        "CadenaOrd =cadena[::-1]\n",
        "print(CadenaOrd)\n",
        "print (CadenaOrd[4:] + \" ha sacado una nota de \" + CadenaOrd[:2])\n"
      ],
      "execution_count": null,
      "outputs": [
        {
          "output_type": "stream",
          "text": [
            "10 ,Juan Perez\n",
            "Juan Perez ha sacado una nota de 10\n"
          ],
          "name": "stdout"
        }
      ]
    },
    {
      "cell_type": "code",
      "metadata": {
        "colab": {
          "base_uri": "https://localhost:8080/"
        },
        "id": "BZtItgGFPV4e",
        "outputId": "2f014d47-7520-4fe5-8866-6e78c512f501"
      },
      "source": [
        "suma = 0\n",
        "for num in range(0,101):\n",
        "  if num % 2 == 0:\n",
        "    suma += num\n",
        "print(suma)\n",
        "\n",
        "\n",
        "suma2 = sum(range(0,101,2))\n",
        "print(suma)"
      ],
      "execution_count": null,
      "outputs": [
        {
          "output_type": "stream",
          "text": [
            "2550\n",
            "2550\n"
          ],
          "name": "stdout"
        }
      ]
    }
  ]
}